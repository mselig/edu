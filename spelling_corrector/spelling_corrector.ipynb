{
 "cells": [
  {
   "cell_type": "markdown",
   "metadata": {},
   "source": [
    "**_Disclaimer:_** This is a copy of [Peter Norvig](https://en.wikipedia.org/wiki/Peter_Norvig)'s essay [\"How to Write a Spelling Corrector\"](http://norvig.com/spell-correct.html) in form of a Jupyter notebook for educational purposes. Following the link to the original, you can find further reading, acknowledgments, and references to other natural and computer languages.\n",
    "\n",
    "----\n",
    "    \n",
    "# How to Write a Spelling Corrector\n",
    "    \n",
    "One week in 2007, two friends (Dean and Bill) independently told me they were amazed at Google's spelling correction. Type in a search like [speling](http://www.google.com/search?q=speling) and Google instantly comes back with **Showing results for:** [**_spelling_**](http://www.google.com/search?q=spelling). I thought Dean and Bill, being highly accomplished engineers and mathematicians, would have good intuitions about how this process works. But they didn't, and come to think of it, why should they know about something so far outisde their specialty?\n",
    "\n",
    "I figured they, and others, could benefit from an explanation. The full details of an industrial-strength spell corrector are quite complex (you can read a little about it [here](http://static.googleusercontent.com/external_content/untrusted_dlcp/research.google.com/en/us/pubs/archive/36180.pdf) or [here](http://citeseerx.ist.psu.edu/viewdoc/download;jsessionid=52A3B869596656C9DA285DCE83A0339F?doi=10.1.1.146.4390&rep=rep1&type=pdf)). But I figured that in the course of a transcontinental plane ride I could write and explain a toy spelling corrector that achieves 80 or 90% accuracy at a processing speed of at least 10 words per second in about half a page of code.\n",
    "\n",
    "And here it is (or see [spell.py](http://norvig.com/spell.py)): "
   ]
  },
  {
   "cell_type": "code",
   "execution_count": 4,
   "metadata": {
    "collapsed": true
   },
   "outputs": [],
   "source": [
    "import re ## regular expressions\n",
    "from collections import Counter\n",
    "\n",
    "def words(text): return re.findall(r'\\w+', text.lower())\n",
    "\n",
    "WORDS = Counter(words(open('big.txt').read()))\n",
    "\n",
    "def P(word, N=sum(WORDS.values())): \n",
    "    \"Probability of `word`.\"\n",
    "    return WORDS[word] / N\n",
    "\n",
    "def correction(word): \n",
    "    \"Most probable spelling correction for word.\"\n",
    "    return max(candidates(word), key=P)\n",
    "\n",
    "def candidates(word): \n",
    "    \"Generate possible spelling corrections for word.\"\n",
    "    return (known([word]) or known(edits1(word)) or known(edits2(word)) or [word])\n",
    "\n",
    "def known(words): \n",
    "    \"The subset of `words` that appear in the dictionary of WORDS.\"\n",
    "    return set(w for w in words if w in WORDS)\n",
    "\n",
    "def edits1(word):\n",
    "    \"All edits that are one edit away from `word`.\"\n",
    "    letters    = 'abcdefghijklmnopqrstuvwxyz'\n",
    "    splits     = [(word[:i], word[i:])    for i in range(len(word) + 1)]\n",
    "    deletes    = [L + R[1:]               for L, R in splits if R]\n",
    "    transposes = [L + R[1] + R[0] + R[2:] for L, R in splits if len(R)>1]\n",
    "    replaces   = [L + c + R[1:]           for L, R in splits if R for c in letters]\n",
    "    inserts    = [L + c + R               for L, R in splits for c in letters]\n",
    "    return set(deletes + transposes + replaces + inserts)\n",
    "\n",
    "def edits2(word): \n",
    "    \"All edits that are two edits away from `word`.\"\n",
    "    return (e2 for e1 in edits1(word) for e2 in edits1(e1))"
   ]
  },
  {
   "cell_type": "markdown",
   "metadata": {},
   "source": [
    "The function ```correction(word)``` returns a likely spelling correction: "
   ]
  },
  {
   "cell_type": "code",
   "execution_count": 2,
   "metadata": {
    "collapsed": false
   },
   "outputs": [
    {
     "data": {
      "text/plain": [
       "'spelling'"
      ]
     },
     "execution_count": 2,
     "metadata": {},
     "output_type": "execute_result"
    }
   ],
   "source": [
    "correction('speling')"
   ]
  },
  {
   "cell_type": "code",
   "execution_count": 3,
   "metadata": {
    "collapsed": false
   },
   "outputs": [
    {
     "data": {
      "text/plain": [
       "'corrected'"
      ]
     },
     "execution_count": 3,
     "metadata": {},
     "output_type": "execute_result"
    }
   ],
   "source": [
    "correction('korrectud')"
   ]
  },
  {
   "cell_type": "markdown",
   "metadata": {},
   "source": [
    "### How It Works: Some Probability Theory\n",
    "\n",
    "The call ```correction(w)``` tries to choose the most likely spelling correction for ```w```. There is no way to know for sure (for example, should \"lates\" be corrected to \"late\" or \"latest\" or \"lattes\" or ...?), which suggests we use probabilities. We are trying to find the correction $c$, out of all possible candidate corrections, that maximizes the probability that $c$ is the intended correction, given the original word $w$:\n",
    "\n",
    "$$\n",
    "    \\mathrm{argmax}_{c \\,\\in\\, candidates} P(c\\,|\\,w) \n",
    "$$    \n",
    "\n",
    "By Bayes' Theorem this is equivalent to:\n",
    "\n",
    "$$\n",
    "    \\mathrm{argmax}_{c \\,\\in\\, candidates} P(c) \\, P(w\\,|\\,c) \\,/\\, P(w) \n",
    "$$\n",
    "\n",
    "Since $P(w)$ is the same for every possible candidate $c$, we can factor it out, giving:\n",
    "\n",
    "$$\n",
    "    \\mathrm{argmax}_{c \\,\\in\\, candidates} P(c) \\, P(w\\,|\\,c) \n",
    "$$\n",
    "\n",
    "The four parts of this expression are:\n",
    "\n",
    "1. **Selection Mechanism:** $\\mathrm{argmax}$\n",
    "    <br>\n",
    "    We choose the candidate with the highest combined probability.\n",
    "    <br><br>\n",
    "2. **Candidate Model:** $c \\,\\in\\, candidates$\n",
    "    <br>\n",
    "    This tells us which candidate corrections, $c$, to consider.\n",
    "    <br><br>\n",
    "3. **Language Model:** $P(c)$\n",
    "    <br>\n",
    "    The probability that $c$ appears as a word of English text. For example, occurrences of \"the\" make up about 7% of English text, so we should have $P(the) = 0.07$.\n",
    "    <br><br>\n",
    "4. **Error Model:** $P(w\\,|\\,c)$\n",
    "    <br>\n",
    "    The probability that $w$ would be typed in a text when the author meant $c$. For example, $P(teh\\,|\\,the)$ is relatively high, but $P(theeexyz\\,|\\,the)$ would be very low.\n",
    "\n",
    "One obvious question is: why take a simple expression like $P(c\\,|\\,w)$ and replace it with a more complex expression involving two models rather than one? The answer is that $P(c\\,|\\,w)$ is already conflating two factors, and it is easier to separate the two out and deal with them explicitly. Consider the misspelled word $w$=\"thew\" and the two candidate corrections $c$=\"the\" and $c$=\"thaw\". Which has a higher $P(c\\,|\\,w)$? Well, \"thaw\" seems good because the only change is \"a\" to \"e\", which is a small change. On the other hand, \"the\" seems good because \"the\" is a very common word, and while adding a \"w\" seems like a larger, less probable change, perhaps the typist's finger slipped off the \"e\". The point is that to estimate $P(c\\,|\\,w)$ we have to consider both the probability of $c$ and the probability of the change from $c$ to $w$ anyway, so it is cleaner to formally separate the two factors."
   ]
  },
  {
   "cell_type": "markdown",
   "metadata": {
    "collapsed": true
   },
   "source": [
    "### How It Works: Some Python\n",
    "\n",
    "The four parts of the program are:\n",
    "\n",
    "1\\. **Selection Mechanism:** In Python, ```max``` with a ```key``` argument does '$\\mathrm{argmax}$'.\n",
    "\n",
    "2\\. **Candidate Model:** First a new concept: a **simple edit** to a word is a deletion (remove one letter), a transposition (swap two adjacent letters), a replacement (change one letter to another) or an insertion (add a letter). The function ```edits1``` returns a set of all the edited strings (whether words or not) that can be made with one simple edit: "
   ]
  },
  {
   "cell_type": "code",
   "execution_count": 1,
   "metadata": {
    "collapsed": true
   },
   "outputs": [],
   "source": [
    "def edits1(word):\n",
    "    \"All edits that are one edit away from `word`.\"\n",
    "    letters    = 'abcdefghijklmnopqrstuvwxyz'\n",
    "    splits     = [(word[:i], word[i:])    for i in range(len(word) + 1)]\n",
    "    deletes    = [L + R[1:]               for L, R in splits if R]\n",
    "    transposes = [L + R[1] + R[0] + R[2:] for L, R in splits if len(R)>1]\n",
    "    replaces   = [L + c + R[1:]           for L, R in splits if R for c in letters]\n",
    "    inserts    = [L + c + R               for L, R in splits for c in letters]\n",
    "    return set(deletes + transposes + replaces + inserts)"
   ]
  },
  {
   "cell_type": "markdown",
   "metadata": {},
   "source": [
    "This can be a big set. For a word of length $n$, there will be $n$ deletions, $n-1$ transpositions, $26n$ alterations, and $26(n+1)$ insertions, for a total of $54n+25$ (of which a few are typically duplicates). For example, "
   ]
  },
  {
   "cell_type": "code",
   "execution_count": 2,
   "metadata": {
    "collapsed": false
   },
   "outputs": [
    {
     "data": {
      "text/plain": [
       "442"
      ]
     },
     "execution_count": 2,
     "metadata": {},
     "output_type": "execute_result"
    }
   ],
   "source": [
    "len(edits1('somthing'))"
   ]
  },
  {
   "cell_type": "markdown",
   "metadata": {},
   "source": [
    "However, if we restrict ourselves to words that are _known_ - that is, in the dictionary - then the set is much smaller: "
   ]
  },
  {
   "cell_type": "code",
   "execution_count": 5,
   "metadata": {
    "collapsed": false
   },
   "outputs": [
    {
     "data": {
      "text/plain": [
       "{'something', 'soothing'}"
      ]
     },
     "execution_count": 5,
     "metadata": {},
     "output_type": "execute_result"
    }
   ],
   "source": [
    "def known(words): return set(w for w in words if w in WORDS)\n",
    "\n",
    "known(edits1('somthing'))"
   ]
  },
  {
   "cell_type": "markdown",
   "metadata": {},
   "source": [
    "We'll also consider corrections that require two simple edits. This generates a much bigger set of possibilities, but usually only a few of them are known words: "
   ]
  },
  {
   "cell_type": "code",
   "execution_count": 13,
   "metadata": {
    "collapsed": false
   },
   "outputs": [
    {
     "data": {
      "text/plain": [
       "114324"
      ]
     },
     "execution_count": 13,
     "metadata": {},
     "output_type": "execute_result"
    }
   ],
   "source": [
    "def edits2(word): return (e2 for e1 in edits1(word) for e2 in edits1(e1))\n",
    "\n",
    "len(set(edits2('something')))"
   ]
  },
  {
   "cell_type": "code",
   "execution_count": 14,
   "metadata": {
    "collapsed": false
   },
   "outputs": [
    {
     "data": {
      "text/plain": [
       "{'loathing',\n",
       " 'nothing',\n",
       " 'scathing',\n",
       " 'seething',\n",
       " 'smoothing',\n",
       " 'something',\n",
       " 'soothing',\n",
       " 'sorting'}"
      ]
     },
     "execution_count": 14,
     "metadata": {},
     "output_type": "execute_result"
    }
   ],
   "source": [
    "known(edits2('somthing'))"
   ]
  },
  {
   "cell_type": "markdown",
   "metadata": {},
   "source": [
    "We say that the results of ```edits2(w)``` have an **edit distance** of 2 from ```w```.\n",
    "\n",
    "3\\. **Language Model:** We can estimate the probability of a word, ```P(word)```, by counting the number of times each word appears in a text file of about a million words, [big.txt](http://norvig.com/big.txt). It is a concatenation of public domain book excerpts from [Project Gutenberg](http://www.gutenberg.org/wiki/Main_Page) and lists of most frequent words from [Wiktionary](http://en.wiktionary.org/wiki/Wiktionary:Frequency_lists) and the [British National Corpus](http://www.kilgarriff.co.uk/bnc-readme.html). The function ```words``` breaks text into words, then the variable ```WORDS``` holds a Counter of how often each word appears, and ```P``` estimates the probability of each word, based on this Counter: "
   ]
  },
  {
   "cell_type": "code",
   "execution_count": 15,
   "metadata": {
    "collapsed": true
   },
   "outputs": [],
   "source": [
    "def words(text): return re.findall(r'\\w+', text.lower())\n",
    "\n",
    "WORDS = Counter(words(open('big.txt').read()))\n",
    "\n",
    "def P(word, N=sum(WORDS.values())): return WORDS[word] / N"
   ]
  },
  {
   "cell_type": "markdown",
   "metadata": {},
   "source": [
    "We can see that there are 32,198 distinct words, which together appear 1,115,585 times, with 'the' being the most common word, appearing 79,809 times (or a probability of about 7%) and other words being less probable: "
   ]
  },
  {
   "cell_type": "code",
   "execution_count": 22,
   "metadata": {
    "collapsed": false
   },
   "outputs": [
    {
     "data": {
      "text/plain": [
       "32198"
      ]
     },
     "execution_count": 22,
     "metadata": {},
     "output_type": "execute_result"
    }
   ],
   "source": [
    "len(WORDS)"
   ]
  },
  {
   "cell_type": "code",
   "execution_count": 23,
   "metadata": {
    "collapsed": false
   },
   "outputs": [
    {
     "data": {
      "text/plain": [
       "1115585"
      ]
     },
     "execution_count": 23,
     "metadata": {},
     "output_type": "execute_result"
    }
   ],
   "source": [
    "sum(WORDS.values())"
   ]
  },
  {
   "cell_type": "code",
   "execution_count": 24,
   "metadata": {
    "collapsed": false
   },
   "outputs": [
    {
     "data": {
      "text/plain": [
       "[('the', 79809),\n",
       " ('of', 40024),\n",
       " ('and', 38312),\n",
       " ('to', 28765),\n",
       " ('in', 22023),\n",
       " ('a', 21124),\n",
       " ('that', 12512),\n",
       " ('he', 12401),\n",
       " ('was', 11410),\n",
       " ('it', 10681)]"
      ]
     },
     "execution_count": 24,
     "metadata": {},
     "output_type": "execute_result"
    }
   ],
   "source": [
    "WORDS.most_common(10)"
   ]
  },
  {
   "cell_type": "code",
   "execution_count": 18,
   "metadata": {
    "collapsed": false
   },
   "outputs": [
    {
     "data": {
      "text/plain": [
       "'the'"
      ]
     },
     "execution_count": 18,
     "metadata": {},
     "output_type": "execute_result"
    }
   ],
   "source": [
    "max(WORDS, key=P)"
   ]
  },
  {
   "cell_type": "code",
   "execution_count": 19,
   "metadata": {
    "collapsed": false
   },
   "outputs": [
    {
     "data": {
      "text/plain": [
       "0.07154004401278254"
      ]
     },
     "execution_count": 19,
     "metadata": {},
     "output_type": "execute_result"
    }
   ],
   "source": [
    "P('the')"
   ]
  },
  {
   "cell_type": "code",
   "execution_count": 20,
   "metadata": {
    "collapsed": false
   },
   "outputs": [
    {
     "data": {
      "text/plain": [
       "0.0"
      ]
     },
     "execution_count": 20,
     "metadata": {},
     "output_type": "execute_result"
    }
   ],
   "source": [
    "P('unmentioned')"
   ]
  },
  {
   "cell_type": "markdown",
   "metadata": {},
   "source": [
    "4\\. **Error Model:** When I started to write this program, sitting on a plane in 2007, I had no data on spelling errors, and no internet connection (I know that may be hard to imagine today). Without data I couldn't build a good spelling error model, so I took a shortcut: I defined a trivial, flawed error model that says all known words of edit distance 1 are infinitely more probable than known words of edit distance 2, and infinitely less probable than a known word of edit distance 0. So we can make ```candidates(word)``` produce the first non-empty list of candidates in order of priority:\n",
    "\n",
    "1. The original word, if it is known; otherwise\n",
    "2. The list of known words at edit distance one away, if there are any; otherwise\n",
    "3. The list of known words at edit distance two away, if there are any; otherwise\n",
    "4. The original word, even though it is not known. \n",
    "\n",
    "Then we don't need to multiply by a $P(w\\,|\\,c)$ factor, because every candidate at the chosen priority will have the same probability (according to our flawed model). That gives us: "
   ]
  },
  {
   "cell_type": "code",
   "execution_count": 25,
   "metadata": {
    "collapsed": true
   },
   "outputs": [],
   "source": [
    "def correction(word): return max(candidates(word), key=P)\n",
    "\n",
    "def candidates(word): return known([word]) or known(edits1(word)) or known(edits2(word)) or [word]"
   ]
  },
  {
   "cell_type": "markdown",
   "metadata": {},
   "source": [
    "### Evaluation\n",
    "\n",
    "Now it is time to evaluate how well this program does. After my plane landed, I downloaded Roger Mitton's (Birkbeck spelling error corpus)[http://ota.ahds.ac.uk/texts/0643.html] from the Oxford Text Archive. From that I extracted two test sets of corrections. The first is for development, meaning I get to look at it while I'm developing the program. The second is a final test set, meaning I'm not allowed to look at it, nor change my program after evaluating on it. This practice of having two sets is good hygiene; it keeps me from fooling myself into thinking I'm doing better than I am by tuning the program to one specific set of tests. I also wrote some unit tests: "
   ]
  },
  {
   "cell_type": "code",
   "execution_count": 27,
   "metadata": {
    "collapsed": false
   },
   "outputs": [
    {
     "name": "stdout",
     "output_type": "stream",
     "text": [
      "unit_tests pass\n"
     ]
    }
   ],
   "source": [
    "def unit_tests():\n",
    "    assert correction('speling') == 'spelling'              # insert\n",
    "    assert correction('korrectud') == 'corrected'           # replace 2\n",
    "    assert correction('bycycle') == 'bicycle'               # replace\n",
    "    assert correction('inconvient') == 'inconvenient'       # insert 2\n",
    "    assert correction('arrainged') == 'arranged'            # delete\n",
    "    assert correction('peotry') =='poetry'                  # transpose\n",
    "    assert correction('peotryy') =='poetry'                 # transpose + delete\n",
    "    assert correction('word') == 'word'                     # known\n",
    "    assert correction('quintessential') == 'quintessential' # unknown\n",
    "    assert words('This is a TEST.') == ['this', 'is', 'a', 'test']\n",
    "    assert Counter(words('This is a test. 123; A TEST this is.')) == (\n",
    "           Counter({'123': 1, 'a': 2, 'is': 2, 'test': 2, 'this': 2}))\n",
    "    assert len(WORDS) == 32198\n",
    "    assert sum(WORDS.values()) == 1115585\n",
    "    assert WORDS.most_common(10) == [\n",
    "        ('the', 79809),\n",
    "        ('of', 40024),\n",
    "        ('and', 38312),\n",
    "        ('to', 28765),\n",
    "        ('in', 22023),\n",
    "        ('a', 21124),\n",
    "        ('that', 12512),\n",
    "        ('he', 12401),\n",
    "        ('was', 11410),\n",
    "        ('it', 10681)]\n",
    "    assert WORDS['the'] == 79809\n",
    "    assert P('quintessential') == 0\n",
    "    assert 0.07 < P('the') < 0.08\n",
    "    return 'unit_tests pass'\n",
    "\n",
    "def spelltest(tests, verbose=False):\n",
    "    \"Run correction(wrong) on all (right, wrong) pairs; report results.\"\n",
    "    import time\n",
    "    start = time.clock()\n",
    "    good, unknown = 0, 0\n",
    "    n = len(tests)\n",
    "    for right, wrong in tests:\n",
    "        w = correction(wrong)\n",
    "        good += (w == right)\n",
    "        if w != right:\n",
    "            unknown += (right not in WORDS)\n",
    "            if verbose:\n",
    "                print('correction({}) => {} ({}); expected {} ({})'\n",
    "                      .format(wrong, w, WORDS[w], right, WORDS[right]))\n",
    "    dt = time.clock() - start\n",
    "    print('{:.0%} of {} correct ({:.0%} unknown) at {:.0f} words per second '\n",
    "          .format(good / n, n, unknown / n, n / dt))\n",
    "    \n",
    "def Testset(lines):\n",
    "    \"Parse 'right: wrong1 wrong2' lines into [('right', 'wrong1'), ('right', 'wrong2')] pairs.\"\n",
    "    return [(right, wrong)\n",
    "            for (right, wrongs) in (line.split(':') for line in lines)\n",
    "            for wrong in wrongs.split()]\n",
    "\n",
    "print(unit_tests())"
   ]
  },
  {
   "cell_type": "code",
   "execution_count": 28,
   "metadata": {
    "collapsed": false
   },
   "outputs": [
    {
     "name": "stdout",
     "output_type": "stream",
     "text": [
      "75% of 270 correct (6% unknown) at 26 words per second \n"
     ]
    }
   ],
   "source": [
    "spelltest(Testset(open('spell-testset1.txt'))) # Development set"
   ]
  },
  {
   "cell_type": "code",
   "execution_count": 29,
   "metadata": {
    "collapsed": false
   },
   "outputs": [
    {
     "name": "stdout",
     "output_type": "stream",
     "text": [
      "68% of 400 correct (11% unknown) at 22 words per second \n"
     ]
    }
   ],
   "source": [
    "spelltest(Testset(open('spell-testset2.txt'))) # Final test set"
   ]
  },
  {
   "cell_type": "markdown",
   "metadata": {},
   "source": [
    "So on the development set we get 75% correct (processing words at a rate of 26 words/second), and on the final test set we get 68% correct (at 22 words/second). In conclusion, I met my goals for brevity, development time, and runtime speed, but not for accuracy. Perhaps my test set was extra tough, or perhaps my simple model is just not good enough to get to 80% or 90% accuracy.\n",
    "\n",
    "### Future Work\n",
    "\n",
    "Let's think about how we could do better. (I've developed the ideas some more in a [separate chapter](http://norvig.com/ngrams/) for a book and in a [Jupyter notebook](http://nbviewer.jupyter.org/url/norvig.com/ipython/How%20to%20Do%20Things%20with%20Words.ipynb).)\n",
    "\n",
    "1\\. $P(c)$, the language model. We can distinguish two sources of error in the language model. The more serious is unknown words. In the development set, there are 15 unknown words, or 6%, and in the final test set, 43 unknown words or 11%. Here are some examples of the output of ```spelltest``` with ```verbose=True```:"
   ]
  },
  {
   "cell_type": "code",
   "execution_count": 39,
   "metadata": {
    "collapsed": false
   },
   "outputs": [
    {
     "name": "stdout",
     "output_type": "stream",
     "text": [
      "correction(transportibility) => transportibility (0); expected transportability (0)\n",
      "0% of 1 correct (100% unknown) at 2 words per second \n"
     ]
    }
   ],
   "source": [
    "spelltest(Testset(['transportability: transportibility']), verbose=True)"
   ]
  },
  {
   "cell_type": "code",
   "execution_count": 41,
   "metadata": {
    "collapsed": false
   },
   "outputs": [
    {
     "name": "stdout",
     "output_type": "stream",
     "text": [
      "correction(addresable) => addresable (0); expected addressable (0)\n",
      "0% of 1 correct (100% unknown) at 4 words per second \n"
     ]
    }
   ],
   "source": [
    "spelltest(Testset(['addressable: addresable']), verbose=True)"
   ]
  },
  {
   "cell_type": "code",
   "execution_count": 49,
   "metadata": {
    "collapsed": false
   },
   "outputs": [
    {
     "name": "stdout",
     "output_type": "stream",
     "text": [
      "correction(auxillary) => axillary (31); expected auxiliary (0)\n",
      "0% of 1 correct (100% unknown) at 1551 words per second \n"
     ]
    }
   ],
   "source": [
    "spelltest(Testset(['auxiliary: auxillary']), verbose=True)"
   ]
  },
  {
   "cell_type": "markdown",
   "metadata": {},
   "source": [
    "In this output we show the call to ```correction``` and the actual and expected result (with the ```WORDS``` counts in parentheses). Counts of (0) mean the target word was not in the dictionary, so we have no chance of getting it right. We could create a better language model by collecting more data, and perhaps by using a little English morphology (such as adding \"ility\" or \"able\" to the end of a word).\n",
    "\n",
    "Another way to deal with unknown words is to allow the result of ```correction``` to be a word we have not seen. For example, if the input is \"electroencephalographicallz\", a good correction would be to change the final \"z\" to an \"y\", even though \"electroencephalographically\" is not in our dictionary. We could achieve this with a language model based on components of words: perhaps on syllables or suffixes, but it is easier to base it on sequences of characters: common 2-, 3- and 4-letter sequences.\n",
    "\n",
    "2\\. $P(w\\,|\\,c)$, the error model. So far, the error model has been trivial: the smaller the edit distance, the smaller the error. This causes some problems, as the examples below show. First, some cases where ```correction``` returns a word at edit distance 1 when it should return one at edit distance 2: "
   ]
  },
  {
   "cell_type": "code",
   "execution_count": 61,
   "metadata": {
    "collapsed": false
   },
   "outputs": [
    {
     "name": "stdout",
     "output_type": "stream",
     "text": [
      "correction(reciet) => recite (4); expected receipt (13)\n",
      "0% of 1 correct (0% unknown) at 2571 words per second \n"
     ]
    }
   ],
   "source": [
    "spelltest(Testset(['receipt: reciet']), verbose=True)"
   ]
  },
  {
   "cell_type": "code",
   "execution_count": 62,
   "metadata": {
    "collapsed": false
   },
   "outputs": [
    {
     "name": "stdout",
     "output_type": "stream",
     "text": [
      "correction(adres) => acres (36); expected address (76)\n",
      "0% of 1 correct (0% unknown) at 2623 words per second \n"
     ]
    }
   ],
   "source": [
    "spelltest(Testset(['address: adres']), verbose=True)"
   ]
  },
  {
   "cell_type": "code",
   "execution_count": 63,
   "metadata": {
    "collapsed": false
   },
   "outputs": [
    {
     "name": "stdout",
     "output_type": "stream",
     "text": [
      "correction(rember) => member (50); expected remember (161)\n",
      "0% of 1 correct (0% unknown) at 2445 words per second \n"
     ]
    }
   ],
   "source": [
    "spelltest(Testset(['remember: rember']), verbose=True)"
   ]
  },
  {
   "cell_type": "markdown",
   "metadata": {},
   "source": [
    "Why should \"adres\" be corrected to \"address\" rather than \"acres\"? The intuition is that the two edits from \"d\" to \"dd\" and \"s\" to \"ss\" should both be fairly common, and have high probability, while the single edit from \"d\" to \"c\" should have low probability.\n",
    "\n",
    "Clearly we could use a better model of the cost of edits. We could use our intuition to assign lower costs for doubling letters and changing a vowel to another vowel (as compared to an arbitrary letter change), but it seems better to gather data: to get a corpus of spelling errors, and count how likely it is to make each insertion, deletion, or alteration, given the surrounding characters. We need a lot of data to do this well. If we want to look at the change of one character for another, given a window of two characters on each side, that's 26<sup>6</sup>, which is over 300 million characters. You'd want several examples of each, on average, so we need at least a billion characters of correction data; probably safer with at least 10 billion.\n",
    "\n",
    "Note there is a connection between the language model and the error model. The current program has such a simple error model (all edit distance 1 words before any edit distance 2 words) that it handicaps the language model: we are afraid to add obscure words to the model, because if one of those obscure words happens to be edit distance 1 from an input word, then it will be chosen, even if there is a very common word at edit distance 2. With a better error model we can be more aggressive about adding obscure words to the dictionary. Here are some examples where the presence of obscure words in the dictionary hurts us: "
   ]
  },
  {
   "cell_type": "code",
   "execution_count": 55,
   "metadata": {
    "collapsed": false
   },
   "outputs": [
    {
     "name": "stdout",
     "output_type": "stream",
     "text": [
      "correction(wonted) => wonted (1); expected wanted (213)\n",
      "0% of 1 correct (0% unknown) at 4923 words per second \n"
     ]
    }
   ],
   "source": [
    "spelltest(Testset(['wanted: wonted']), verbose=True)"
   ]
  },
  {
   "cell_type": "code",
   "execution_count": 48,
   "metadata": {
    "collapsed": false
   },
   "outputs": [
    {
     "name": "stdout",
     "output_type": "stream",
     "text": [
      "correction(planed) => planed (1); expected planned (15)\n",
      "0% of 1 correct (0% unknown) at 11082 words per second \n"
     ]
    }
   ],
   "source": [
    "spelltest(Testset(['planned: planed']), verbose=True)"
   ]
  },
  {
   "cell_type": "code",
   "execution_count": 51,
   "metadata": {
    "collapsed": false
   },
   "outputs": [
    {
     "name": "stdout",
     "output_type": "stream",
     "text": [
      "correction(forth) => forth (82); expected fourth (76)\n",
      "0% of 1 correct (0% unknown) at 7728 words per second \n"
     ]
    }
   ],
   "source": [
    "spelltest(Testset(['fourth: forth']), verbose=True)"
   ]
  },
  {
   "cell_type": "markdown",
   "metadata": {},
   "source": [
    "3\\. The enumeration of possible corrections, $\\mathrm{argmax}_c$. Our program enumerates all corrections within edit distance 2. In the development set, only 3 words out of 270 are beyond edit distance 2, but in the final test set, there were 23 out of 400. Here they are:\n",
    "\n",
    "    purple perpul\n",
    "    curtains courtens\n",
    "    minutes muinets\n",
    "\n",
    "    successful sucssuful\n",
    "    hierarchy heiarky\n",
    "    profession preffeson\n",
    "    weighted wagted\n",
    "    inefficient ineffiect\n",
    "    availability avaiblity\n",
    "    thermawear thermawhere\n",
    "    nature natior\n",
    "    dissension desention\n",
    "    unnecessarily unessasarily\n",
    "    disappointing dissapoiting\n",
    "    acquaintances aquantences\n",
    "    thoughts thorts\n",
    "    criticism citisum\n",
    "    immediately imidatly\n",
    "    necessary necasery\n",
    "    necessary nessasary\n",
    "    necessary nessisary\n",
    "    unnecessary unessessay\n",
    "    night nite\n",
    "    minutes muiuets\n",
    "    assessing accesing\n",
    "    necessitates nessisitates\n",
    "\n",
    "We could consider extending the model by allowing a limited set of edits at edit distance 3. For example, allowing only the insertion of a vowel next to another vowel, or the replacement of a vowel for another vowel, or replacing close consonants like \"c\" to \"s\" would handle almost all these cases.\n",
    "\n",
    "4\\. There's actually a fourth (and best) way to improve: change the interface to ```correction``` to look at more context. So far, ```correction``` only looks at one word at a time. It turns out that in many cases it is difficult to make a decision based only on a single word. This is most obvious when there is a word that appears in the dictionary, but the test set says it should be corrected to another word anyway: "
   ]
  },
  {
   "cell_type": "code",
   "execution_count": 59,
   "metadata": {
    "collapsed": false
   },
   "outputs": [
    {
     "name": "stdout",
     "output_type": "stream",
     "text": [
      "correction(where) => where (977); expected were (4289)\n",
      "0% of 1 correct (0% unknown) at 9978 words per second \n"
     ]
    }
   ],
   "source": [
    "spelltest(Testset(['were: where']), verbose=True)"
   ]
  },
  {
   "cell_type": "code",
   "execution_count": 53,
   "metadata": {
    "collapsed": false
   },
   "outputs": [
    {
     "name": "stdout",
     "output_type": "stream",
     "text": [
      "correction(latter) => latter (129); expected later (334)\n",
      "0% of 1 correct (0% unknown) at 7844 words per second \n"
     ]
    }
   ],
   "source": [
    "spelltest(Testset(['later: latter']), verbose=True)"
   ]
  },
  {
   "cell_type": "code",
   "execution_count": 54,
   "metadata": {
    "collapsed": false
   },
   "outputs": [
    {
     "name": "stdout",
     "output_type": "stream",
     "text": [
      "correction(advice) => advice (63); expected advise (19)\n",
      "0% of 1 correct (0% unknown) at 5261 words per second \n"
     ]
    }
   ],
   "source": [
    "spelltest(Testset(['advise: advice']), verbose=True)"
   ]
  },
  {
   "cell_type": "markdown",
   "metadata": {},
   "source": [
    "Why should 'thear' be corrected as 'there' rather than 'their'? It is difficult to tell by the single word alone, but if the query were ```correction('There's no there thear')``` it would be clear.\n",
    "\n",
    "To build a model that looks at multiple words at a time, we will need a lot of data. Fortunately, Google has released a [database of word counts](http://googleresearch.blogspot.com/2006/08/all-our-n-gram-are-belong-to-you.html) for all sequences up to five words long, gathered from a corpus of a trillion words.\n",
    "\n",
    "I believe that a spelling corrector that scores 90% accuracy will _need_ to use the context of the surrounding words to make a choice. But we'll leave that for another day...\n",
    "\n",
    "We could also decide what dialect we are trying to train for. The following three errors are due to confusion about American versus British spelling (our training data contains both): "
   ]
  },
  {
   "cell_type": "code",
   "execution_count": 56,
   "metadata": {
    "collapsed": false
   },
   "outputs": [
    {
     "name": "stdout",
     "output_type": "stream",
     "text": [
      "correction(humor) => humor (16); expected humour (4)\n",
      "0% of 1 correct (0% unknown) at 7705 words per second \n"
     ]
    }
   ],
   "source": [
    "spelltest(Testset(['humour: humor']), verbose=True)"
   ]
  },
  {
   "cell_type": "code",
   "execution_count": 57,
   "metadata": {
    "collapsed": false
   },
   "outputs": [
    {
     "name": "stdout",
     "output_type": "stream",
     "text": [
      "correction(oranisation) => organisation (7); expected organization (42)\n",
      "0% of 1 correct (0% unknown) at 1493 words per second \n"
     ]
    }
   ],
   "source": [
    "spelltest(Testset(['organization: oranisation']), verbose=True)"
   ]
  },
  {
   "cell_type": "code",
   "execution_count": 58,
   "metadata": {
    "collapsed": false
   },
   "outputs": [
    {
     "name": "stdout",
     "output_type": "stream",
     "text": [
      "correction(oranised) => organised (10); expected organized (68)\n",
      "0% of 1 correct (0% unknown) at 2038 words per second \n"
     ]
    }
   ],
   "source": [
    "spelltest(Testset(['organized: oranised']), verbose=True)"
   ]
  },
  {
   "cell_type": "markdown",
   "metadata": {},
   "source": [
    "5\\. Finally, we could improve the implementation by making it much faster, without changing the results. We could re-implement in a compiled language rather than an interpreted one. We could cache the results of computations so that we don't have to repeat them multiple times. One word of advice: before attempting any speed optimizations, profile carefully to see where the time is actually going. "
   ]
  }
 ],
 "metadata": {
  "kernelspec": {
   "display_name": "Python 3",
   "language": "python",
   "name": "python3"
  },
  "language_info": {
   "codemirror_mode": {
    "name": "ipython",
    "version": 3
   },
   "file_extension": ".py",
   "mimetype": "text/x-python",
   "name": "python",
   "nbconvert_exporter": "python",
   "pygments_lexer": "ipython3",
   "version": "3.6.0"
  }
 },
 "nbformat": 4,
 "nbformat_minor": 2
}
